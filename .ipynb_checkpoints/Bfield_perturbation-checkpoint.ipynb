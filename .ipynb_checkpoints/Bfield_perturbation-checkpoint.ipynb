{
 "cells": [
  {
   "cell_type": "code",
   "execution_count": 1,
   "metadata": {},
   "outputs": [],
   "source": [
    "%matplotlib inline\n",
    "import numpy as np\n",
    "\n",
    "from astropy import units as u\n",
    "# from astropy.constants import c\n",
    "from astropy.constants import k_B"
   ]
  },
  {
   "cell_type": "code",
   "execution_count": 2,
   "metadata": {},
   "outputs": [
    {
     "data": {
      "application/javascript": [
       "MathJax.Hub.Config({\n",
       "    TeX: { equationNumbers: { autoNumber: \"AMS\" } }\n",
       "});\n"
      ],
      "text/plain": [
       "<IPython.core.display.Javascript object>"
      ]
     },
     "metadata": {},
     "output_type": "display_data"
    }
   ],
   "source": [
    "%%javascript\n",
    "MathJax.Hub.Config({\n",
    "    TeX: { equationNumbers: { autoNumber: \"AMS\" } }\n",
    "});"
   ]
  },
  {
   "cell_type": "markdown",
   "metadata": {},
   "source": [
    "As discussed in our previous telecon, we can use equation 10.19 from Stahler & Palla's book\n",
    "\\begin{equation}\n",
    "\\delta u = \\delta u_i \\left(1 - \\frac{i\\omega}{n_i\\langle \\sigma_{in} u_i' \\rangle}\\right)^{-1}~,\n",
    "\\label{eq:1}\n",
    "\\end{equation}\n",
    "where \n",
    "$n_i\\langle \\sigma_{in} u_i' \\rangle$\n",
    "is \"the frequency with which a given natural atom or molecule is struck by ions\", $\\delta u$ is the perturbation on the neutral's velocity, and $\\delta u_i$ is the perturbation on the ion's velocity.\n",
    "\n",
    "The other relation to use is equation 10.21 from Stahler & Palla's book\n",
    "\\begin{equation}\n",
    "\\frac{\\omega^2}{k^2} = \\frac{B_o^2}{4\\pi \\rho_o} \n",
    "                       \\left(1 - \\frac{i\\omega}{n_i\\langle \\sigma_{in} u_i' \\rangle}\\right)~,\n",
    "\\label{eq:2}\n",
    "\\end{equation}\n",
    "which relates the $\\omega$ and $k$.\n",
    "\n",
    "Finally, equation 10.17 from Stahler & Palla's book relates the perturbation in the magnetic field as\n",
    "\\begin{equation}\n",
    "\\delta u_i = -\\frac{\\omega}{k} \\frac{\\delta B}{B_o}~.\n",
    "\\label{eq:3}\n",
    "\\end{equation}\n",
    "\n",
    "We estimate the velocity perturvations as the velocity dispersions (**Q: should this be the non-thermal velocity dispersion or the thermal+non-thermal value?**) derived from the spectral lines and therefore rewrite equation \\ref{eq:1} as \n",
    "\\begin{equation}\n",
    "\\left| \\frac{\\delta u_i}{\\delta u} \\right|^2 =\n",
    "1 + \\left(\\frac{\\omega}{n_i\\langle \\sigma_{in} u_i' \\rangle}\\right)^{2}\n",
    "\\approx \\left(\\frac{\\sigma_v({\\rm N_2H^+})}{\\sigma_v({\\rm NH_3})}\\right)^2~.\n",
    "\\label{eq:4}\n",
    "\\end{equation}\n",
    "\n",
    "Now, equation \\ref{eq:2} can also be rewritten as\n",
    "\\begin{equation}\n",
    "\\left|\\frac{\\omega^2}{k^2}\\right| = \\left(\\frac{B_o^2}{4\\pi \\rho_o}\\right)\n",
    "                       \\left[1 + \\left(\\frac{\\omega}{n_i\\langle \\sigma_{in} u_i' \\rangle}\\right)^2\\right]^{1/2}\n",
    "\\approx \\frac{B_o^2}{4\\pi \\rho_o}\n",
    "\\frac{\\sigma_v({\\rm N_2H^+})}{\\sigma_v({\\rm NH_3})}~.\n",
    "\\label{eq:5}\n",
    "\\end{equation}\n",
    "\n",
    "Combining equations \\ref{eq:3}, \\ref{eq:4} and \\ref{eq:5} we obtain\n",
    "$$\n",
    "\\frac{\\delta B}{B_o} = \\sqrt{\\sigma_v({\\rm N_2H^+}) \\sigma_v({\\rm NH_3})}\n",
    "\\frac{\\sqrt{4\\pi \\rho_o}}{B_o}\n",
    "$$\n",
    "or\n",
    "$$\n",
    "\\delta B= \\sqrt{4\\pi \\rho_o} \\sqrt{\\sigma_v({\\rm N_2H^+}) \\sigma_v({\\rm NH_3})}\n",
    "$$"
   ]
  },
  {
   "cell_type": "code",
   "execution_count": 3,
   "metadata": {},
   "outputs": [],
   "source": [
    "def sigma_thermal(mu_mol, tk=10*u.K):\n",
    "    \"\"\"\n",
    "    Returns the sound speed for temperature Tk and molecular weight mu.\n",
    "    This is also used to determine the thermal velocity dispersion of\n",
    "    a molecular transition.\n",
    "\n",
    "    \"\"\"\n",
    "    return np.sqrt(k_B * tk/(mu_mol * u.u)).to(u.km/u.s)\n",
    "\n",
    "gauss_B = (u.g/u.cm)**(0.5)/u.s\n",
    "equiv_B = [(u.G, gauss_B, lambda x: x, lambda x: x)]\n",
    "\n",
    "B_o = np.array([100, 150]) * u.uG\n",
    "c_sound = sigma_thermal(2.38, tk=10*u.K).cgs\n",
    "sigma_ion = 0.62 * c_sound\n",
    "sigma_neutral = 0.47 * c_sound\n",
    "rho_o = (7e4 / u.cm**3 * u.u * 2.8).cgs"
   ]
  },
  {
   "cell_type": "code",
   "execution_count": 4,
   "metadata": {},
   "outputs": [
    {
     "data": {
      "text/latex": [
       "$[0.20404732,~0.13603155] \\; \\mathrm{}$"
      ],
      "text/plain": [
       "<Quantity [0.20404732, 0.13603155]>"
      ]
     },
     "execution_count": 4,
     "metadata": {},
     "output_type": "execute_result"
    }
   ],
   "source": [
    "(np.sqrt(sigma_ion*sigma_neutral * 4*np.pi * rho_o) / B_o.to((u.g/u.cm)**(1/2)/u.s, equivalencies=equiv_B))"
   ]
  },
  {
   "cell_type": "code",
   "execution_count": 5,
   "metadata": {},
   "outputs": [
    {
     "data": {
      "text/latex": [
       "$[20.404732,~20.404732] \\; \\mathrm{\\mu G}$"
      ],
      "text/plain": [
       "<Quantity [20.40473243, 20.40473243] uG>"
      ]
     },
     "execution_count": 5,
     "metadata": {},
     "output_type": "execute_result"
    }
   ],
   "source": [
    "((np.sqrt(sigma_ion*sigma_neutral * 4*np.pi * rho_o) / B_o) * B_o).to(u.uG, equivalencies=equiv_B)"
   ]
  },
  {
   "cell_type": "markdown",
   "metadata": {},
   "source": [
    "This corresponds to a variation of $20\\,\\mu$G, which corresponds between 13 to 20\\% of the field.\n",
    "\n",
    "If we want to estimate the wavelength then we will need to estimate \n",
    "$n_i\\langle \\sigma_{in} u_i' \\rangle$ to derive $\\omega$ and then obtain $k$."
   ]
  },
  {
   "cell_type": "code",
   "execution_count": null,
   "metadata": {},
   "outputs": [],
   "source": []
  }
 ],
 "metadata": {
  "kernelspec": {
   "display_name": "Python 3",
   "language": "python",
   "name": "python3"
  },
  "language_info": {
   "codemirror_mode": {
    "name": "ipython",
    "version": 3
   },
   "file_extension": ".py",
   "mimetype": "text/x-python",
   "name": "python",
   "nbconvert_exporter": "python",
   "pygments_lexer": "ipython3",
   "version": "3.7.6"
  }
 },
 "nbformat": 4,
 "nbformat_minor": 4
}

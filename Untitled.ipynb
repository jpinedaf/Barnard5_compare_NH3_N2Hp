{
 "cells": [
  {
   "cell_type": "code",
   "execution_count": 1,
   "metadata": {},
   "outputs": [],
   "source": [
    "%matplotlib inline\n",
    "import numpy as np\n",
    "\n",
    "from astropy import units as u\n",
    "from astropy.io import fits\n",
    "import aplpy\n",
    "from astropy.constants import c\n",
    "\n",
    "import matplotlib.pyplot as plt\n",
    "from matplotlib import rc\n",
    "\n",
    "rc('font',**{'family':'Helvetica','sans-serif':['Helvetica']}) \n",
    "rc('text', usetex=True)"
   ]
  },
  {
   "cell_type": "code",
   "execution_count": 2,
   "metadata": {},
   "outputs": [
    {
     "data": {
      "application/javascript": [
       "MathJax.Hub.Config({\n",
       "    TeX: { equationNumbers: { autoNumber: \"AMS\" } }\n",
       "});\n"
      ],
      "text/plain": [
       "<IPython.core.display.Javascript object>"
      ]
     },
     "metadata": {},
     "output_type": "display_data"
    }
   ],
   "source": [
    "%%javascript\n",
    "MathJax.Hub.Config({\n",
    "    TeX: { equationNumbers: { autoNumber: \"AMS\" } }\n",
    "});"
   ]
  },
  {
   "cell_type": "markdown",
   "metadata": {},
   "source": [
    "As discussed in our previous telecon, we can use equation 10.19 from Stahler & Palla's book\n",
    "\\begin{equation}\n",
    "\\delta u = \\delta u_i \\left(1 - \\frac{i\\omega}{n_i\\langle \\sigma_{in} u_i' \\rangle}\\right)^{-1}~,\n",
    "\\label{eq:1}\n",
    "\\end{equation}\n",
    "where \n",
    "$n_i\\langle \\sigma_{in} u_i' \\rangle$\n",
    "is \"the frequency with which a given natural atom or molecule is struck by ions\", $\\delta u$ is the perturbation on the neutral's velocity, and $\\delta u_i$ is the perturbation on the ion's velocity.\n",
    "\n",
    "The other relation to use is equation 10.21 from Stahler & Palla's book\n",
    "\\begin{equation}\n",
    "\\frac{\\omega^2}{k^2} = \\frac{B_o^2}{4\\pi \\rho_o} \n",
    "                       \\left(1 - \\frac{i\\omega}{n_i\\langle \\sigma_{in} u_i' \\rangle}\\right)~,\n",
    "\\label{eq:2}\n",
    "\\end{equation}\n",
    "which relates the $\\omega$ and $k$.\n",
    "\n",
    "Finally, equation 10.17 from Stahler & Palla's book relates the perturbation in the magnetic field as\n",
    "\\begin{equation}\n",
    "\\delta u_i = -\\frac{\\omega}{k} \\frac{\\delta B}{B_o}~.\n",
    "\\label{eq:3}\n",
    "\\end{equation}\n",
    "\n",
    "We estimate the velocity perturvations as the velocity dispersions (**Q: should this be the non-thermal velocity dispersion or the thermal+non-thermal value?**) derived from the spectral lines and therefore rewrite equation \\ref{eq:1} as \n",
    "\\begin{equation}\n",
    "\\left| \\frac{\\delta u_i}{\\delta u} \\right|^2 =\n",
    "1 + \\left(\\frac{\\omega}{n_i\\langle \\sigma_{in} u_i' \\rangle}\\right)^{2}\n",
    "\\approx \\left(\\frac{\\sigma_v({\\rm N_2H^+})}{\\sigma_v({\\rm NH_3})}\\right)^2~.\n",
    "\\label{eq:4}\n",
    "\\end{equation}\n",
    "\n",
    "Now, equation \\ref{eq:2} can also be rewritten as\n",
    "\\begin{equation}\n",
    "\\left|\\frac{\\omega^2}{k^2}\\right| = \\left(\\frac{B_o^2}{4\\pi \\rho_o}\\right)\n",
    "                       \\left[1 + \\left(\\frac{\\omega}{n_i\\langle \\sigma_{in} u_i' \\rangle}\\right)^2\\right]^{1/2}\n",
    "\\approx \\frac{B_o^2}{4\\pi \\rho_o}\n",
    "\\frac{\\sigma_v({\\rm N_2H^+})}{\\sigma_v({\\rm NH_3})}~.\n",
    "\\label{eq:5}\n",
    "\\end{equation}\n",
    "\n",
    "Combining equations \\ref{eq:3}, \\ref{eq:4} and \\ref{eq:5} we obtain\n",
    "$$\n",
    "\\frac{\\delta B}{B_o} = \\sqrt{\\sigma_v({\\rm N_2H^+}) \\sigma_v({\\rm NH_3})}\n",
    "\\left(\\frac{4\\pi \\rho_o}{B_o^2} \\right)^{1/2}\n",
    "$$"
   ]
  },
  {
   "cell_type": "code",
   "execution_count": 13,
   "metadata": {},
   "outputs": [],
   "source": [
    "B_o = (100e-6 * u.G)\n",
    "c_sound = 0.2 * (u.km/u.s).cgs\n",
    "sigma_ion = 0.62 * c_sound\n",
    "sigma_neutral = 0.47 * c_sound\n",
    "rho_o = (7e4 / u.cm**3 * u.u * 2.8).cgs"
   ]
  },
  {
   "cell_type": "code",
   "execution_count": 17,
   "metadata": {},
   "outputs": [
    {
     "data": {
      "text/latex": [
       "$2.1833949 \\times 10^{-6} \\; \\mathrm{100000\\,\\frac{g^{1/2}}{cm^{1/2}\\,G\\,s}}$"
      ],
      "text/plain": [
       "<Quantity 2.18339487e-06 100000 g(1/2) / (cm(1/2) G s)>"
      ]
     },
     "execution_count": 17,
     "metadata": {},
     "output_type": "execute_result"
    }
   ],
   "source": [
    "(np.sqrt(sigma_ion*sigma_neutral * 4*np.pi * rho_o) / B_o)"
   ]
  },
  {
   "cell_type": "code",
   "execution_count": null,
   "metadata": {},
   "outputs": [],
   "source": []
  },
  {
   "cell_type": "code",
   "execution_count": null,
   "metadata": {},
   "outputs": [],
   "source": []
  },
  {
   "cell_type": "code",
   "execution_count": null,
   "metadata": {},
   "outputs": [],
   "source": []
  },
  {
   "cell_type": "code",
   "execution_count": 7,
   "metadata": {},
   "outputs": [
    {
     "data": {
      "text/latex": [
       "$\\mathrm{G}$"
      ],
      "text/plain": [
       "Unit(\"G\")"
      ]
     },
     "execution_count": 7,
     "metadata": {},
     "output_type": "execute_result"
    }
   ],
   "source": [
    "u.Gauss"
   ]
  },
  {
   "cell_type": "code",
   "execution_count": null,
   "metadata": {},
   "outputs": [],
   "source": []
  },
  {
   "cell_type": "code",
   "execution_count": null,
   "metadata": {},
   "outputs": [],
   "source": []
  }
 ],
 "metadata": {
  "kernelspec": {
   "display_name": "Python 3",
   "language": "python",
   "name": "python3"
  },
  "language_info": {
   "codemirror_mode": {
    "name": "ipython",
    "version": 3
   },
   "file_extension": ".py",
   "mimetype": "text/x-python",
   "name": "python",
   "nbconvert_exporter": "python",
   "pygments_lexer": "ipython3",
   "version": "3.7.6"
  }
 },
 "nbformat": 4,
 "nbformat_minor": 4
}

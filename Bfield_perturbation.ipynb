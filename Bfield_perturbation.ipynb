{
 "cells": [
  {
   "cell_type": "code",
   "execution_count": 50,
   "metadata": {},
   "outputs": [],
   "source": [
    "%matplotlib inline\n",
    "import numpy as np\n",
    "\n",
    "from astropy import units as u\n",
    "# from astropy.constants import c\n",
    "from astropy.constants import k_B, G"
   ]
  },
  {
   "cell_type": "code",
   "execution_count": 9,
   "metadata": {},
   "outputs": [
    {
     "data": {
      "application/javascript": [
       "MathJax.Hub.Config({\n",
       "    TeX: { equationNumbers: { autoNumber: \"AMS\" } }\n",
       "});\n"
      ],
      "text/plain": [
       "<IPython.core.display.Javascript object>"
      ]
     },
     "metadata": {},
     "output_type": "display_data"
    }
   ],
   "source": [
    "%%javascript\n",
    "MathJax.Hub.Config({\n",
    "    TeX: { equationNumbers: { autoNumber: \"AMS\" } }\n",
    "});"
   ]
  },
  {
   "cell_type": "markdown",
   "metadata": {},
   "source": [
    "As discussed in our previous telecon, we can use equation 10.19 from Stahler & Palla's book\n",
    "\\begin{equation}\n",
    "\\delta u = \\delta u_i \\left(1 - \\frac{i\\omega}{n_i\\langle \\sigma_{in} u_i' \\rangle}\\right)^{-1}~,\n",
    "\\label{eq:1}\n",
    "\\end{equation}\n",
    "where \n",
    "$n_i\\langle \\sigma_{in} u_i' \\rangle$\n",
    "is \"the frequency with which a given natural atom or molecule is struck by ions\", $\\delta u$ is the perturbation on the neutral's velocity, and $\\delta u_i$ is the perturbation on the ion's velocity.\n",
    "\n",
    "The other relation to use is equation 10.21 from Stahler & Palla's book\n",
    "\\begin{equation}\n",
    "\\frac{\\omega^2}{k^2} = \\frac{B_o^2}{4\\pi \\rho_o} \n",
    "                       \\left(1 - \\frac{i\\omega}{n_i\\langle \\sigma_{in} u_i' \\rangle}\\right)~,\n",
    "\\label{eq:2}\n",
    "\\end{equation}\n",
    "which relates the $\\omega$ and $k$.\n",
    "\n",
    "Finally, equation 10.17 from Stahler & Palla's book relates the perturbation in the magnetic field as\n",
    "\\begin{equation}\n",
    "\\delta u_i = -\\frac{\\omega}{k} \\frac{\\delta B}{B_o}~.\n",
    "\\label{eq:3}\n",
    "\\end{equation}\n",
    "\n",
    "We estimate the velocity perturvations as the velocity dispersions derived from the spectral lines and therefore rewrite equation \\ref{eq:1} as \n",
    "\\begin{equation}\n",
    "\\left| \\frac{\\delta u_i}{\\delta u} \\right|^2 =\n",
    "1 + \\left(\\frac{\\omega}{n_i\\langle \\sigma_{in} u_i' \\rangle}\\right)^{2}\n",
    "\\approx \\left(\\frac{\\sigma_v({\\rm N_2H^+})}{\\sigma_v({\\rm NH_3})}\\right)^2~.\n",
    "\\label{eq:4}\n",
    "\\end{equation}\n",
    "\n",
    "Now, equation \\ref{eq:2} can also be rewritten as\n",
    "\\begin{equation}\n",
    "\\left|\\frac{\\omega^2}{k^2}\\right| = \\left(\\frac{B_o^2}{4\\pi \\rho_o}\\right)\n",
    "                       \\left[1 + \\left(\\frac{\\omega}{n_i\\langle \\sigma_{in} u_i' \\rangle}\\right)^2\\right]^{1/2}\n",
    "\\approx \\frac{B_o^2}{4\\pi \\rho_o}\n",
    "\\frac{\\sigma_v({\\rm N_2H^+})}{\\sigma_v({\\rm NH_3})}~.\n",
    "\\label{eq:5}\n",
    "\\end{equation}\n",
    "\n",
    "Combining equations \\ref{eq:3}, \\ref{eq:4} and \\ref{eq:5} we obtain\n",
    "$$\n",
    "\\frac{\\delta B}{B_o} = \\sqrt{\\sigma_v({\\rm N_2H^+}) \\sigma_v({\\rm NH_3})}\n",
    "\\frac{\\sqrt{4\\pi \\rho_o}}{B_o}\n",
    "$$\n",
    "or\n",
    "$$\n",
    "\\delta B= \\sqrt{4\\pi \\rho_o} \\sqrt{\\sigma_v({\\rm N_2H^+}) \\sigma_v({\\rm NH_3})}\n",
    "$$"
   ]
  },
  {
   "cell_type": "markdown",
   "metadata": {},
   "source": [
    "The term $n_i$ is estimated using the ionization degree from Caselli et al. (2002)\n",
    "$$\n",
    "x(e) = \\frac{n_i}{n({\\rm H_2})} = 5.2\\times 10^{-6} \\left( \\frac{n({\\rm H_2})}{{\\rm cm}^{-3}}\\right)^{-0.56} \n",
    "$$\n",
    "or\n",
    "$$\n",
    "x(e) = 1.3\\times 10^{-5} \\left( \\frac{n({\\rm H_2})}{{\\rm cm}^{-3}}\\right)^{-0.5} \n",
    "$$\n",
    "and the term\n",
    "$$\n",
    "\\langle \\sigma_{in} u_i' \\rangle \\approx 10^{-9} {\\rm cm^3 s^{-1}}\n",
    "$$\n",
    "is approximated by the Langevin term.\n",
    "\n",
    "Using the relation \n",
    "$$\n",
    "\\lambda = \\frac{2\\pi}{k} = \\frac{2\\pi}{\\omega} \\frac{\\omega}{k}\n",
    "$$ \n",
    "and that \n",
    "$$\n",
    "\\frac{1}{\\omega} = \\frac{1}{n_i \\langle \\sigma_{in} u_i' \\rangle}\n",
    "\\sqrt{\\frac{\\sigma_v({\\rm NH_3})^2}{\\sigma_v({\\rm N_2H^+})^2-\\sigma_v({\\rm NH_3})^2}}\n",
    "$$\n",
    "then we can write\n",
    "\\begin{equation}\n",
    "\\lambda = \\sqrt{\\frac{\\pi}{\\rho_o}}  \\frac{B_o}{n_i \\langle \\sigma_{in} u_i' \\rangle} \n",
    "\\sqrt{\\frac{\\sigma_v({\\rm NH_3}) \\sigma_v({\\rm N_2H^+})}{\\sigma_v({\\rm N_2H^+})^2 - \\sigma_v({\\rm NH_3})^2}}\n",
    "\\end{equation}"
   ]
  },
  {
   "cell_type": "code",
   "execution_count": 37,
   "metadata": {},
   "outputs": [],
   "source": [
    "def sigma_thermal(mu_mol, tk=10*u.K):\n",
    "    \"\"\"\n",
    "    Returns the sound speed for temperature Tk and molecular weight mu.\n",
    "    This is also used to determine the thermal velocity dispersion of\n",
    "    a molecular transition.\n",
    "\n",
    "    \"\"\"\n",
    "    return np.sqrt(k_B * tk/(mu_mol * u.u)).to(u.km/u.s)\n",
    "\n",
    "\n",
    "def density_ion(dens_all, do_Caselli=True):\n",
    "    \"\"\"\n",
    "    1.3e-5 x n(H2)^{0.5}  (from McKee 1989) or 5.2e-6 x n*H2)^{0.44} \n",
    "    \"\"\"\n",
    "    if do_Caselli:\n",
    "        xe = 5.2e-6 * (dens_all/(u.cm**-3))**-0.56\n",
    "    else:\n",
    "        xe = 1.3e-5 * (dens_all/(u.cm**-3))**-0.5\n",
    "    return xe*dens_all\n",
    "\n",
    "\n",
    "def get_omega(sigma_ion=0.1*u.km/u.s, sigma_neutral=0.08*u.km/u.s, density=1e6/u.cm**3, do_Caselli=True):\n",
    "    \"\"\"\n",
    "    \"\"\"\n",
    "    n_i = density_ion(density, do_Caselli=do_Caselli)\n",
    "    return (sig_in_v_i * n_i * np.sqrt((sigma_ion/sigma_neutral)**2 - 1)).decompose()\n",
    "\n",
    "\n",
    "def get_wavelength(Bfield=100*u.uG, sigma_ion=0.1*u.km/u.s, sigma_neutral=0.08*u.km/u.s, \n",
    "                   n_H2=1e6/u.cm**3, do_Caselli=True):\n",
    "    \"\"\"\n",
    "    \"\"\"\n",
    "    rho0 = (n_H2 * u.u * 2.8).cgs\n",
    "    n_i = density_ion(n_H2, do_Caselli=do_Caselli).cgs\n",
    "    my_wave = np.sqrt(np.pi/rho0) * (Bfield.to(u.G)/(n_i*sig_in_v_i)) * np.sqrt(sigma_ion.cgs*sigma_neutral.cgs/(sigma_ion.cgs**2 - sigma_neutral.cgs**2))\n",
    "    return (wave.value) * u.pc\n",
    "\n",
    "\n",
    "def alven_speed(Bfield=100*u.G, n_H2=1e6/u.cm**3):\n",
    "    \"\"\"\n",
    "    \"\"\"\n",
    "    rho0 = (n_H2 * u.u * 2.8).cgs\n",
    "    V_a = Bfield.to(u.G)/np.sqrt(4*np.pi*rho0)\n",
    "    return (V_a.value)*(u.cm/u.s)\n",
    "\n",
    "\n",
    "sig_in_v_i = 1e-9*u.cm**3/u.s\n",
    "gauss_B = (u.g/u.cm)**(0.5)/u.s\n",
    "equiv_B = [(u.G, gauss_B, lambda x: x, lambda x: x)]\n",
    "\n",
    "B_o = np.array([100, 150]) * u.uG\n",
    "c_sound = sigma_thermal(2.38, tk=10*u.K).cgs\n",
    "sigma_ion = 0.62 * c_sound\n",
    "sigma_neutral = 0.47 * c_sound\n",
    "n_H2 = 7e4 / u.cm**3\n",
    "rho_o = (7e4 / u.cm**3 * u.u * 2.8).cgs"
   ]
  },
  {
   "cell_type": "code",
   "execution_count": 13,
   "metadata": {},
   "outputs": [
    {
     "name": "stdout",
     "output_type": "stream",
     "text": [
      "[0.28856649 0.19237766]\n"
     ]
    }
   ],
   "source": [
    "delta_B_Bo = (np.sqrt(2*sigma_ion*sigma_neutral * 4*np.pi * rho_o) / B_o.to((u.g/u.cm)**(1/2)/u.s, equivalencies=equiv_B))\n",
    "print(delta_B_Bo)"
   ]
  },
  {
   "cell_type": "code",
   "execution_count": 14,
   "metadata": {},
   "outputs": [
    {
     "name": "stdout",
     "output_type": "stream",
     "text": [
      "[28.85664934 28.85664934] uG\n"
     ]
    }
   ],
   "source": [
    "delta_B = ((np.sqrt(2*sigma_ion*sigma_neutral * 4*np.pi * rho_o) / B_o) * B_o).to(u.uG, equivalencies=equiv_B)\n",
    "print(delta_B)"
   ]
  },
  {
   "cell_type": "markdown",
   "metadata": {},
   "source": [
    "This corresponds to a variation of $20\\,\\mu$G, which corresponds between 13 to 20\\% of the field.\n",
    "\n",
    "If we want to estimate the wavelength then we will need to estimate \n",
    "$n_i\\langle \\sigma_{in} u_i' \\rangle$ to derive $\\omega$ and then obtain $k$."
   ]
  },
  {
   "cell_type": "code",
   "execution_count": 15,
   "metadata": {},
   "outputs": [
    {
     "data": {
      "text/latex": [
       "$[0.19081443,~0.28622165] \\; \\mathrm{\\frac{G\\,pc\\,s\\,cm^{1/2}}{g^{1/2}}}$"
      ],
      "text/plain": [
       "<Quantity [0.19081443, 0.28622165] cm(1/2) G pc s / g(1/2)>"
      ]
     },
     "execution_count": 15,
     "metadata": {},
     "output_type": "execute_result"
    }
   ],
   "source": [
    "(get_wavelength(Bfield=B_o, sigma_ion=sigma_ion, sigma_neutral=sigma_neutral, n_H2=n_H2)).to(u.pc*u.G*u.s*(u.cm/u.g)**0.5)\n",
    "# .to(u.pc, equivalencies=equiv_B)"
   ]
  },
  {
   "cell_type": "code",
   "execution_count": 38,
   "metadata": {},
   "outputs": [
    {
     "data": {
      "text/latex": [
       "$[0.03908097,~0.058621454] \\; \\mathrm{\\frac{G\\,pc\\,s\\,cm^{1/2}}{g^{1/2}}}$"
      ],
      "text/plain": [
       "<Quantity [0.03908097, 0.05862145] cm(1/2) G pc s / g(1/2)>"
      ]
     },
     "execution_count": 38,
     "metadata": {},
     "output_type": "execute_result"
    }
   ],
   "source": [
    "(get_wavelength(Bfield=B_o, sigma_ion=sigma_ion, sigma_neutral=sigma_neutral, n_H2=n_H2, do_Caselli=False)).to(u.pc*u.G*u.s*(u.cm/u.g)**0.5)#, equivalencies=equiv_B)"
   ]
  },
  {
   "cell_type": "code",
   "execution_count": 36,
   "metadata": {},
   "outputs": [
    {
     "data": {
      "text/latex": [
       "$[0.49447289,~0.74170933] \\; \\mathrm{\\frac{km}{s}}$"
      ],
      "text/plain": [
       "<Quantity [0.49447289, 0.74170933] km / s>"
      ]
     },
     "execution_count": 36,
     "metadata": {},
     "output_type": "execute_result"
    }
   ],
   "source": [
    "alven_speed(n_H2=n_H2, Bfield=B_o).to(u.km/u.s)"
   ]
  },
  {
   "cell_type": "code",
   "execution_count": 39,
   "metadata": {},
   "outputs": [
    {
     "data": {
      "text/latex": [
       "$[1.5636606,~2.3454908] \\; \\mathrm{\\frac{km}{s}}$"
      ],
      "text/plain": [
       "<Quantity [1.56366057, 2.34549085] km / s>"
      ]
     },
     "execution_count": 39,
     "metadata": {},
     "output_type": "execute_result"
    }
   ],
   "source": [
    "alven_speed(n_H2=n_H2/10, Bfield=B_o).to(u.km/u.s)"
   ]
  },
  {
   "cell_type": "markdown",
   "metadata": {},
   "source": [
    "## Larson's law"
   ]
  },
  {
   "cell_type": "code",
   "execution_count": 45,
   "metadata": {},
   "outputs": [],
   "source": [
    "def size_sigma_v(sigma_v=1.0*u.km/u.s):\n",
    "    \"\"\"\n",
    "    \"\"\"\n",
    "    sigma_v0 = 1.*u.km/u.s / np.sqrt(8*np.log(2))\n",
    "    return  1.*u.pc * (sigma_v/sigma_v0)**2\n",
    "\n",
    "\n",
    "sigma_v_ammo_super = 0.4*u.km/u.s\n",
    "sigma_nt_ammo_super = np.sqrt(sigma_v_ammo_super**2 - sigma_thermal(17, tk=13*u.K)**2)"
   ]
  },
  {
   "cell_type": "code",
   "execution_count": 47,
   "metadata": {},
   "outputs": [
    {
     "data": {
      "text/latex": [
       "$0.8519715 \\; \\mathrm{pc}$"
      ],
      "text/plain": [
       "<Quantity 0.8519715 pc>"
      ]
     },
     "execution_count": 47,
     "metadata": {},
     "output_type": "execute_result"
    }
   ],
   "source": [
    "size_sigma_v(sigma_v=sigma_nt_ammo_super)"
   ]
  },
  {
   "cell_type": "markdown",
   "metadata": {},
   "source": [
    "## Magnetic field estimate\n",
    "### B-field estimate from filament properties\n",
    "Following the discussion with Steve, I will estimate the magnetic field using the following:\n",
    "$$\n",
    "\\frac{M}{L} = 2\\frac{c_s^2}{G}\\left( 1+\\beta^{-1}\\right) \n",
    "\\frac{\\left(R_{top}/R_{flat}\\right)^2}{1+\\left(R_{top}/R_{flat}\\right)^2}\n",
    "$$\n",
    "and\n",
    "$$\n",
    "\\beta = \\frac{P_{gas}}{P_{B}}\n",
    "= \\frac{8\\pi \\rho c_s^2}{B^2}~.\n",
    "$$\n",
    "Then we estimate the magnetic field strength as:\n",
    "$$\n",
    "B = \\sqrt{8\\pi \\rho} c_s \n",
    "\\left[ \n",
    "\\frac{G}{2c_s^2} \\frac{M}{L}\n",
    "\\left(\\frac{1+\\xi_R^2}{\\xi_R^2}\\right) -1 \\right]^{1/2}\n",
    "$$\n",
    "where $\\xi_R\\equiv R_{top}/R_{flat}$\n",
    "\n",
    "### Fitted density (column density) profile\n",
    "Anika fitted the derived column densities with the following function\n",
    "$$\n",
    "    \\Sigma(r) = A_p \\frac{\\Sigma_0}{\\left[1+\\left(r/R_{flat}\\right)^2\\right]^{(p-1)/2}}~,\n",
    "$$\n",
    "where $\\Sigma_0$ is the peak column density, $A_p= \\frac{1}{\\cos i} \\int_{-\\inf}^{\\inf} \\frac{du}{(1+u^2)^{p/2}}$ is a geometrical factor for $p>1$ (see Arzoumanian et al. 2011), and $R_{flat}$ is the flattening radius.\n",
    "This column density profile is equivalent to fitting a density profile of\n",
    "$$\n",
    "    n(r) = \\frac{n_0}{\\left[1+\\left(r/R_{flat}\\right)^2\\right]^{p/2}}~,\n",
    "$$\n",
    "where $n_0$ is the central density."
   ]
  },
  {
   "cell_type": "code",
   "execution_count": null,
   "metadata": {},
   "outputs": [],
   "source": []
  },
  {
   "cell_type": "code",
   "execution_count": null,
   "metadata": {},
   "outputs": [],
   "source": []
  },
  {
   "cell_type": "code",
   "execution_count": null,
   "metadata": {},
   "outputs": [],
   "source": []
  },
  {
   "cell_type": "code",
   "execution_count": 59,
   "metadata": {},
   "outputs": [],
   "source": [
    "def get_beta(R_top=1.*u.pc, R_flat=0.1*u.pc, Tk=10*u.K, m_l=1*u.Msun/u.pc):\n",
    "    left_side = G * m_l.cgs / (2*sigma_thermal(2.37, tk=Tk)**2).cgs * (1+(R_top/R_flat)**2)/(R_top/R_flat)**2\n",
    "    beta = 1./(left_side - 1)\n",
    "    return beta\n",
    "\n",
    "\n",
    "def get_B_form_beta(beta=1.0, Tk=10*u.K, n_H2=1e6/u.cm**3):\n",
    "    \"\"\"\n",
    "    \"\"\"\n",
    "    rho0 = (n_H2 * u.u * 2.8).cgs\n",
    "    c_s = sigma_thermal(2.37, tk=Tk).cgs\n",
    "    P_gas = rho0 * c_s**2\n",
    "    Bfield = np.sqrt(8*np.pi * P_gas / beta)\n",
    "    return (Bfield).to(u.uG, equivalencies=equiv_B)\n",
    "    "
   ]
  },
  {
   "cell_type": "code",
   "execution_count": 69,
   "metadata": {},
   "outputs": [],
   "source": [
    "beta_fil1 = get_beta(m_l=60*u.Msun/u.pc, R_flat=2844*u.au, R_top=2*2844*u.au)"
   ]
  },
  {
   "cell_type": "code",
   "execution_count": 70,
   "metadata": {},
   "outputs": [
    {
     "data": {
      "text/latex": [
       "$101.6029 \\; \\mathrm{\\mu G}$"
      ],
      "text/plain": [
       "<Quantity 101.60290127 uG>"
      ]
     },
     "execution_count": 70,
     "metadata": {},
     "output_type": "execute_result"
    }
   ],
   "source": [
    "get_B_form_beta(beta=beta_fil1, Tk=10*u.K, n_H2=n_H2)"
   ]
  },
  {
   "cell_type": "code",
   "execution_count": 71,
   "metadata": {},
   "outputs": [
    {
     "data": {
      "text/latex": [
       "$384.02287 \\; \\mathrm{\\mu G}$"
      ],
      "text/plain": [
       "<Quantity 384.02287033 uG>"
      ]
     },
     "execution_count": 71,
     "metadata": {},
     "output_type": "execute_result"
    }
   ],
   "source": [
    "get_B_form_beta(beta=beta_fil1, Tk=10*u.K, n_H2=1e6/u.cm**3)"
   ]
  },
  {
   "cell_type": "code",
   "execution_count": 72,
   "metadata": {},
   "outputs": [
    {
     "data": {
      "text/latex": [
       "$0.27798326 \\; \\mathrm{}$"
      ],
      "text/plain": [
       "<Quantity 0.27798326>"
      ]
     },
     "execution_count": 72,
     "metadata": {},
     "output_type": "execute_result"
    }
   ],
   "source": [
    "beta_fil1"
   ]
  },
  {
   "cell_type": "code",
   "execution_count": null,
   "metadata": {},
   "outputs": [],
   "source": []
  },
  {
   "cell_type": "code",
   "execution_count": null,
   "metadata": {},
   "outputs": [],
   "source": []
  }
 ],
 "metadata": {
  "kernelspec": {
   "display_name": "Python 3",
   "language": "python",
   "name": "python3"
  },
  "language_info": {
   "codemirror_mode": {
    "name": "ipython",
    "version": 3
   },
   "file_extension": ".py",
   "mimetype": "text/x-python",
   "name": "python",
   "nbconvert_exporter": "python",
   "pygments_lexer": "ipython3",
   "version": "3.7.6"
  }
 },
 "nbformat": 4,
 "nbformat_minor": 4
}
